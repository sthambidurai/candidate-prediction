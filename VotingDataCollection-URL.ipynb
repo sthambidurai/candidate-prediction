{
 "cells": [
  {
   "cell_type": "markdown",
   "metadata": {},
   "source": [
    "# Scraping the Election Results from the CQ Press Library Website\n",
    "\n",
    "All election results data is stored on the CQ Press Library, which we have access to through Georgetown."
   ]
  },
  {
   "cell_type": "markdown",
   "metadata": {},
   "source": [
    "## Getting the data. "
   ]
  },
  {
   "cell_type": "code",
   "execution_count": 1,
   "metadata": {
    "collapsed": false
   },
   "outputs": [],
   "source": [
    "# imports\n",
    "from urllib.request import urlopen\n",
    "from bs4 import BeautifulSoup\n",
    "import pandas as pd"
   ]
  },
  {
   "cell_type": "code",
   "execution_count": 14,
   "metadata": {
    "collapsed": false
   },
   "outputs": [],
   "source": [
    "url = \"http://library.cqpress.com.proxy.library.georgetown.edu/elections/document.php?id=avg2012-3AL3&type=toc&num=9676B457-9FD2-4541-985C-45CAE50EE210\""
   ]
  },
  {
   "cell_type": "code",
   "execution_count": 5,
   "metadata": {
    "collapsed": true
   },
   "outputs": [],
   "source": [
    "html = urlopen(url)"
   ]
  },
  {
   "cell_type": "code",
   "execution_count": 7,
   "metadata": {
    "collapsed": false
   },
   "outputs": [
    {
     "ename": "TypeError",
     "evalue": "invalid file: <http.client.HTTPResponse object at 0x000001FDECC45EB8>",
     "output_type": "error",
     "traceback": [
      "\u001b[0;31m---------------------------------------------------------------------------\u001b[0m",
      "\u001b[0;31mTypeError\u001b[0m                                 Traceback (most recent call last)",
      "\u001b[0;32m<ipython-input-7-68cd99ede15c>\u001b[0m in \u001b[0;36m<module>\u001b[0;34m()\u001b[0m\n\u001b[1;32m      1\u001b[0m \u001b[1;31m# create handle to BeautifulSoup instance\u001b[0m\u001b[1;33m\u001b[0m\u001b[1;33m\u001b[0m\u001b[0m\n\u001b[0;32m----> 2\u001b[0;31m \u001b[0msoup\u001b[0m \u001b[1;33m=\u001b[0m \u001b[0mBeautifulSoup\u001b[0m\u001b[1;33m(\u001b[0m\u001b[0mopen\u001b[0m\u001b[1;33m(\u001b[0m\u001b[0mhtml\u001b[0m\u001b[1;33m)\u001b[0m\u001b[1;33m,\u001b[0m \u001b[1;34m\"html.parser\"\u001b[0m\u001b[1;33m)\u001b[0m\u001b[1;33m\u001b[0m\u001b[0m\n\u001b[0m",
      "\u001b[0;31mTypeError\u001b[0m: invalid file: <http.client.HTTPResponse object at 0x000001FDECC45EB8>"
     ]
    }
   ],
   "source": [
    "# create handle to BeautifulSoup instance\n",
    "soup = BeautifulSoup(open(html), \"html.parser\")"
   ]
  },
  {
   "cell_type": "code",
   "execution_count": 10,
   "metadata": {
    "collapsed": false
   },
   "outputs": [
    {
     "name": "stdout",
     "output_type": "stream",
     "text": [
      "<http.client.HTTPResponse object at 0x000001FDECC615F8>\n"
     ]
    }
   ],
   "source": [
    "print(html)"
   ]
  },
  {
   "cell_type": "code",
   "execution_count": 15,
   "metadata": {
    "collapsed": true
   },
   "outputs": [],
   "source": [
    "# this is the html from the given url\n",
    "html = urlopen(url)"
   ]
  },
  {
   "cell_type": "code",
   "execution_count": 16,
   "metadata": {
    "collapsed": false
   },
   "outputs": [
    {
     "name": "stderr",
     "output_type": "stream",
     "text": [
      "C:\\Users\\Sarah\\Anaconda3\\lib\\site-packages\\bs4\\__init__.py:181: UserWarning: No parser was explicitly specified, so I'm using the best available HTML parser for this system (\"lxml\"). This usually isn't a problem, but if you run this code on another system, or in a different virtual environment, it may use a different parser and behave differently.\n",
      "\n",
      "The code that caused this warning is on line 184 of the file C:\\Users\\Sarah\\Anaconda3\\lib\\runpy.py. To get rid of this warning, change code that looks like this:\n",
      "\n",
      " BeautifulSoup([your markup])\n",
      "\n",
      "to this:\n",
      "\n",
      " BeautifulSoup([your markup], \"lxml\")\n",
      "\n",
      "  markup_type=markup_type))\n"
     ]
    }
   ],
   "source": [
    "soup = BeautifulSoup(html)"
   ]
  },
  {
   "cell_type": "code",
   "execution_count": 17,
   "metadata": {
    "collapsed": false
   },
   "outputs": [
    {
     "name": "stdout",
     "output_type": "stream",
     "text": [
      "<!DOCTYPE html PUBLIC \"-//W3C//DTD XHTML 1.0 Transitional//EN\" \"http://www.w3.org/TR/xhtml1/DTD/xhtml1-transitional.dtd\">\n",
      "<html xmlns=\"http://www.w3.org/1999/xhtml\">\n",
      "<head><script language=\"javascript\"> \r\n",
      "function toggle() {\r\n",
      "\tvar ele = document.getElementById(\"toggleText\");\r\n",
      "\tvar text = document.getElementById(\"displayText\");\r\n",
      "\tif(ele.style.display == \"block\") {\r\n",
      "    \t\tele.style.display = \"none\";\r\n",
      "\t\ttext.innerHTML = \"+\";\r\n",
      "  \t}\r\n",
      "\telse {\r\n",
      "\t\tele.style.display = \"block\";\r\n",
      "\t\ttext.innerHTML = \"-\";\r\n",
      "\t}\r\n",
      "} \r\n",
      "</script>\n",
      "<title>Off-campus Access Login</title>\n",
      "<meta content=\"text/html; charset=utf-8\" http-equiv=\"Content-Type\"/>\n",
      "<meta content=\"origin\" name=\"referrer\"/>\n",
      "<link href=\"/public/main.css\" rel=\"stylesheet\" type=\"text/css\"/>\n",
      "</head><body onload=\"document.forms[0].user.focus()\">\n",
      "<div id=\"header\">\n",
      "<div id=\"home\"> <a class=\"home\" href=\"http://library.georgetown.edu/\" title=\"Georgetown University Library\">Georgetown University Library</a>\n",
      "</div>\n",
      "</div>\n",
      "<div id=\"main\">\n",
      "<div id=\"title\">\n",
      "<table width=\"570\">\n",
      "<tr>\n",
      "<td><span>Off-campus Access Login</span></td>\n",
      "<td><div align=\"right\"><a class=\"help\" href=\"http://www.library.georgetown.edu/ask-us\">Help</a></div></td>\n",
      "</tr>\n",
      "</table>\n",
      "</div>\n",
      "<div id=\"content\">\n",
      "<form action=\"/login\" method=\"post\">\n",
      "<input name=\"url\" type=\"hidden\" value=\"http://library.cqpress.com/elections/document.php?id=avg2012-3AL3&amp;type=toc&amp;num=9676B457-9FD2-4541-985C-45CAE50EE210\"/>\n",
      "<table>\n",
      "<tr>\n",
      "<td>\n",
      "<table class=\"loginbox\" id=\"loginbox\">\n",
      "<tr id=\"toprow\">\n",
      "<td> </td>\n",
      "<td> </td>\n",
      "</tr>\n",
      "<tr>\n",
      "<td> </td>\n",
      "<td><table id=\"creds\">\n",
      "<tr>\n",
      "<td class=\"instructiontext\" colspan=\"2\">Log in with your Georgetown University NetID.</td>\n",
      "</tr>\n",
      "<tr>\n",
      "<td> </td>\n",
      "</tr>\n",
      "<tr>\n",
      "<td class=\"right\">NetID:</td>\n",
      "<td><input name=\"user\" size=\"30\" type=\"text\"/></td>\n",
      "</tr>\n",
      "<tr>\n",
      "<td class=\"right\">Password:</td>\n",
      "<td><input name=\"pass\" type=\"password\"/></td>\n",
      "</tr>\n",
      "</table></td>\n",
      "</tr>\n",
      "<tr>\n",
      "<td> </td>\n",
      "<td id=\"button\">\n",
      "<input type=\"submit\" value=\"Login\"/>\n",
      "</td>\n",
      "</tr>\n",
      "</table></td>\n",
      "<td></td>\n",
      "</tr>\n",
      "</table>\n",
      "</form>\n",
      "</div>\n",
      "</div>\n",
      "<script>\r\n",
      "  (function(i,s,o,g,r,a,m){i['GoogleAnalyticsObject']=r;i[r]=i[r]||function(){\r\n",
      "  (i[r].q=i[r].q||[]).push(arguments)},i[r].l=1*new Date();a=s.createElement(o),\r\n",
      "  m=s.getElementsByTagName(o)[0];a.async=1;a.src=g;m.parentNode.insertBefore(a,m)\r\n",
      "  })(window,document,'script','//www.google-analytics.com/analytics.js','ga');\r\n",
      "\r\n",
      "  ga('create', 'UA-397597-21', 'auto');\r\n",
      "  ga('send', 'pageview');\r\n",
      "\r\n",
      "</script>\n",
      "</body>\n",
      "</html>\n",
      "\n"
     ]
    }
   ],
   "source": [
    "print(soup)"
   ]
  },
  {
   "cell_type": "code",
   "execution_count": null,
   "metadata": {
    "collapsed": true
   },
   "outputs": [],
   "source": []
  },
  {
   "cell_type": "code",
   "execution_count": null,
   "metadata": {
    "collapsed": true
   },
   "outputs": [],
   "source": []
  },
  {
   "cell_type": "code",
   "execution_count": null,
   "metadata": {
    "collapsed": false
   },
   "outputs": [],
   "source": [
    "soup.findAll('tr')"
   ]
  },
  {
   "cell_type": "code",
   "execution_count": null,
   "metadata": {
    "collapsed": false
   },
   "outputs": [],
   "source": [
    "table = soup.findAll('td')\n"
   ]
  },
  {
   "cell_type": "code",
   "execution_count": null,
   "metadata": {
    "collapsed": false
   },
   "outputs": [],
   "source": [
    "table"
   ]
  },
  {
   "cell_type": "code",
   "execution_count": null,
   "metadata": {
    "collapsed": false
   },
   "outputs": [],
   "source": [
    "soup.findAll('tr')[1].findAll('td')"
   ]
  },
  {
   "cell_type": "code",
   "execution_count": null,
   "metadata": {
    "collapsed": false
   },
   "outputs": [],
   "source": [
    "soup.findAll('tr')[2].findAll('td')"
   ]
  },
  {
   "cell_type": "code",
   "execution_count": null,
   "metadata": {
    "collapsed": true
   },
   "outputs": [],
   "source": [
    "column_headers = [td.getText() for td in \n",
    "                  soup.findAll('tr')[2].findAll('td')]"
   ]
  },
  {
   "cell_type": "code",
   "execution_count": null,
   "metadata": {
    "collapsed": false,
    "scrolled": true
   },
   "outputs": [],
   "source": [
    "column_headers"
   ]
  },
  {
   "cell_type": "code",
   "execution_count": null,
   "metadata": {
    "collapsed": true
   },
   "outputs": [],
   "source": [
    "data_rows = soup.findAll('tr')[3:]"
   ]
  },
  {
   "cell_type": "code",
   "execution_count": null,
   "metadata": {
    "collapsed": false
   },
   "outputs": [],
   "source": [
    "data_rows"
   ]
  },
  {
   "cell_type": "code",
   "execution_count": null,
   "metadata": {
    "collapsed": false
   },
   "outputs": [],
   "source": [
    "type(data_rows)"
   ]
  },
  {
   "cell_type": "code",
   "execution_count": null,
   "metadata": {
    "collapsed": true
   },
   "outputs": [],
   "source": [
    "race_data = [[td.getText() for td in data_rows[i].findAll('td')]\n",
    "            for i in range(len(data_rows))]"
   ]
  },
  {
   "cell_type": "code",
   "execution_count": null,
   "metadata": {
    "collapsed": false
   },
   "outputs": [],
   "source": [
    "race_data"
   ]
  },
  {
   "cell_type": "code",
   "execution_count": null,
   "metadata": {
    "collapsed": true
   },
   "outputs": [],
   "source": [
    "column_headers.insert(12, \"WinningParty\")"
   ]
  },
  {
   "cell_type": "code",
   "execution_count": null,
   "metadata": {
    "collapsed": false
   },
   "outputs": [],
   "source": [
    "column_headers"
   ]
  },
  {
   "cell_type": "code",
   "execution_count": null,
   "metadata": {
    "collapsed": true
   },
   "outputs": [],
   "source": [
    "df = pd.DataFrame(race_data, columns=column_headers)"
   ]
  },
  {
   "cell_type": "code",
   "execution_count": null,
   "metadata": {
    "collapsed": false
   },
   "outputs": [],
   "source": [
    "df"
   ]
  },
  {
   "cell_type": "code",
   "execution_count": null,
   "metadata": {
    "collapsed": true
   },
   "outputs": [],
   "source": [
    "#add a state column\n",
    "\n",
    "#remove asterisks\n",
    "#remove \"district\"\n",
    "#delete write ins?"
   ]
  },
  {
   "cell_type": "code",
   "execution_count": null,
   "metadata": {
    "collapsed": true
   },
   "outputs": [],
   "source": [
    "#fill in the state column with AL"
   ]
  },
  {
   "cell_type": "code",
   "execution_count": null,
   "metadata": {
    "collapsed": true
   },
   "outputs": [],
   "source": [
    "#run through process with next state and append. "
   ]
  },
  {
   "cell_type": "markdown",
   "metadata": {},
   "source": [
    "## Cleaning the data."
   ]
  }
 ],
 "metadata": {
  "anaconda-cloud": {},
  "kernelspec": {
   "display_name": "Python [default]",
   "language": "python",
   "name": "python3"
  },
  "language_info": {
   "codemirror_mode": {
    "name": "ipython",
    "version": 3
   },
   "file_extension": ".py",
   "mimetype": "text/x-python",
   "name": "python",
   "nbconvert_exporter": "python",
   "pygments_lexer": "ipython3",
   "version": "3.5.2"
  }
 },
 "nbformat": 4,
 "nbformat_minor": 1
}
